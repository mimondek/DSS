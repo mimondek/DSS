{
 "cells": [
  {
   "cell_type": "code",
   "execution_count": 23,
   "metadata": {},
   "outputs": [],
   "source": [
    "from collections import Counter\n",
    "import matplotlib.pyplot as plt\n",
    "import statistics as stcs\n",
    "import numpy as np\n",
    "import math\n",
    "from matplotlib import pyplot as plt"
   ]
  },
  {
   "cell_type": "code",
   "execution_count": 2,
   "metadata": {},
   "outputs": [],
   "source": [
    "num_friends = [100.0,49,41,40,25,21,21,19,19,18,18,16,15,15,15,15,14,14,13,13,13,13,12,12,11,10,10,10,10,10,10,10,10,10,10,10,10,10,10,10,9,9,9,9,9,9,9,9,9,9,9,9,9,9,9,9,9,9,8,8,8,8,8,8,8,8,8,8,8,8,8,7,7,7,7,7,7,7,7,7,7,7,7,7,7,7,6,6,6,6,6,6,6,6,6,6,6,6,6,6,6,6,6,6,6,6,6,6,5,5,5,5,5,5,5,5,5,5,5,5,5,5,5,5,5,4,4,4,4,4,4,4,4,4,4,4,4,4,4,4,4,4,4,4,4,3,3,3,3,3,3,3,3,3,3,3,3,3,3,3,3,3,3,3,3,2,2,2,2,2,2,2,2,2,2,2,2,2,2,2,2,2,1,1,1,1,1,1,1,1,1,1,1,1,1,1,1,1,1,1,1,1,1,1]\n"
   ]
  },
  {
   "cell_type": "code",
   "execution_count": 3,
   "metadata": {},
   "outputs": [],
   "source": [
    "friend_counts=Counter(num_friends)"
   ]
  },
  {
   "cell_type": "code",
   "execution_count": 8,
   "metadata": {},
   "outputs": [],
   "source": [
    "xs=range(int(max(num_friends))+1)\n",
    "ys=[friend_counts[x] for x in xs]"
   ]
  },
  {
   "cell_type": "code",
   "execution_count": 10,
   "metadata": {},
   "outputs": [
    {
     "data": {
      "text/plain": [
       "[0, 101, 0, 25]"
      ]
     },
     "execution_count": 10,
     "metadata": {},
     "output_type": "execute_result"
    },
    {
     "data": {
      "image/png": "[encoded data removed]",
      "text/plain": [
       "<Figure size 432x288 with 1 Axes>"
      ]
     },
     "metadata": {
      "needs_background": "light"
     },
     "output_type": "display_data"
    }
   ],
   "source": [
    "plt.bar(xs,ys)\n",
    "plt.axis([0,101,0,25])"
   ]
  },
  {
   "cell_type": "code",
   "execution_count": 18,
   "metadata": {},
   "outputs": [
    {
     "data": {
      "text/plain": [
       "6.0"
      ]
     },
     "execution_count": 18,
     "metadata": {},
     "output_type": "execute_result"
    }
   ],
   "source": [
    "npoints=len(num_friends)\n",
    "\n",
    "#Max and min\n",
    "nmax=int(max(num_friends))\n",
    "nmin=int(min(num_friends))\n",
    "\n",
    "# Valores ordenados\n",
    "sorted_values=sorted(num_friends)\n",
    "nmin=sorted_values[0]\n",
    "nmax=sorted_values[-1]\n",
    "\n",
    "# Mean\n",
    "stcs.mean(sorted_values)\n",
    "stcs.median(sorted_values)"
   ]
  },
  {
   "cell_type": "code",
   "execution_count": 20,
   "metadata": {},
   "outputs": [
    {
     "data": {
      "text/plain": [
       "13.0"
      ]
     },
     "execution_count": 20,
     "metadata": {},
     "output_type": "execute_result"
    }
   ],
   "source": [
    "np.quantile(sorted_values, .9, axis = None)"
   ]
  },
  {
   "cell_type": "code",
   "execution_count": 21,
   "metadata": {},
   "outputs": [
    {
     "data": {
      "text/plain": [
       "6.0"
      ]
     },
     "execution_count": 21,
     "metadata": {},
     "output_type": "execute_result"
    }
   ],
   "source": [
    "np.quantile(sorted_values, .75, axis = None)-np.quantile(sorted_values, .25, axis = None)"
   ]
  },
  {
   "cell_type": "code",
   "execution_count": 22,
   "metadata": {},
   "outputs": [],
   "source": [
    "daily_minutes = [1,68.77,51.25,52.08,38.36,44.54,57.13,51.4,41.42,31.22,34.76,54.01,38.79,47.59,49.1,27.66,41.03,36.73,48.65,28.12,46.62,35.57,32.98,35,26.07,23.77,39.73,40.57,31.65,31.21,36.32,20.45,21.93,26.02,27.34,23.49,46.94,30.5,33.8,24.23,21.4,27.94,32.24,40.57,25.07,19.42,22.39,18.42,46.96,23.72,26.41,26.97,36.76,40.32,35.02,29.47,30.2,31,38.11,38.18,36.31,21.03,30.86,36.07,28.66,29.08,37.28,15.28,24.17,22.31,30.17,25.53,19.85,35.37,44.6,17.23,13.47,26.33,35.02,32.09,24.81,19.33,28.77,24.26,31.98,25.73,24.86,16.28,34.51,15.23,39.72,40.8,26.06,35.76,34.76,16.13,44.04,18.03,19.65,32.62,35.59,39.43,14.18,35.24,40.13,41.82,35.45,36.07,43.67,24.61,20.9,21.9,18.79,27.61,27.21,26.61,29.77,20.59,27.53,13.82,33.2,25,33.1,36.65,18.63,14.87,22.2,36.81,25.53,24.62,26.25,18.21,28.08,19.42,29.79,32.8,35.99,28.32,27.79,35.88,29.06,36.28,14.1,36.63,37.49,26.9,18.58,38.48,24.48,18.95,33.55,14.24,29.04,32.51,25.63,22.22,19,32.73,15.16,13.9,27.2,32.01,29.27,33,13.74,20.42,27.32,18.23,35.35,28.48,9.08,24.62,20.12,35.26,19.92,31.02,16.49,12.16,30.7,31.22,34.65,13.13,27.51,33.2,31.57,14.1,33.42,17.44,10.12,24.42,9.82,23.39,30.93,15.03,21.67,31.09,33.29,22.61,26.89,23.48,8.38,27.81,32.35,23.84]\n",
    "\n",
    "daily_hours = [dm / 60 for dm in daily_minutes]"
   ]
  },
  {
   "cell_type": "code",
   "execution_count": 26,
   "metadata": {},
   "outputs": [
    {
     "data": {
      "image/png": "[encoded data removed]",
      "text/plain": [
       "<Figure size 432x288 with 1 Axes>"
      ]
     },
     "metadata": {
      "needs_background": "light"
     },
     "output_type": "display_data"
    }
   ],
   "source": [
    "plt.plot(num_friends,daily_minutes, 'o', color='black');"
   ]
  },
  {
   "cell_type": "code",
   "execution_count": 27,
   "metadata": {},
   "outputs": [
    {
     "data": {
      "text/plain": [
       "0"
      ]
     },
     "execution_count": 27,
     "metadata": {},
     "output_type": "execute_result"
    }
   ],
   "source": [
    "num_friends.index(100)"
   ]
  },
  {
   "cell_type": "code",
   "execution_count": 32,
   "metadata": {},
   "outputs": [
    {
     "name": "stdout",
     "output_type": "stream",
     "text": [
      "[[ 0.70307993]\n",
      " [ 0.70307993]\n",
      " [ 0.70307993]\n",
      " [ 0.70307993]\n",
      " [ 0.70307993]\n",
      " [ 0.70307993]\n",
      " [ 0.70307993]\n",
      " [ 0.70307993]\n",
      " [ 0.70307993]\n",
      " [ 0.70307993]\n",
      " [ 0.70307993]\n",
      " [ 0.70307993]\n",
      " [ 0.70307993]\n",
      " [ 0.70307993]\n",
      " [ 0.70307993]\n",
      " [ 0.70307993]\n",
      " [ 0.70307993]\n",
      " [ 0.70307993]\n",
      " [ 0.70307993]\n",
      " [ 0.70307993]\n",
      " [ 0.70307993]\n",
      " [ 0.70307993]\n",
      " [ 0.59206731]\n",
      " [ 0.59206731]\n",
      " [ 0.59206731]\n",
      " [ 0.59206731]\n",
      " [ 0.59206731]\n",
      " [ 0.59206731]\n",
      " [ 0.59206731]\n",
      " [ 0.59206731]\n",
      " [ 0.59206731]\n",
      " [ 0.59206731]\n",
      " [ 0.59206731]\n",
      " [ 0.59206731]\n",
      " [ 0.59206731]\n",
      " [ 0.59206731]\n",
      " [ 0.59206731]\n",
      " [ 0.59206731]\n",
      " [ 0.59206731]\n",
      " [ 0.48105469]\n",
      " [ 0.48105469]\n",
      " [ 0.48105469]\n",
      " [ 0.48105469]\n",
      " [ 0.48105469]\n",
      " [ 0.48105469]\n",
      " [ 0.48105469]\n",
      " [ 0.48105469]\n",
      " [ 0.48105469]\n",
      " [ 0.48105469]\n",
      " [ 0.48105469]\n",
      " [ 0.48105469]\n",
      " [ 0.48105469]\n",
      " [ 0.48105469]\n",
      " [ 0.48105469]\n",
      " [ 0.48105469]\n",
      " [ 0.48105469]\n",
      " [ 0.48105469]\n",
      " [ 0.48105469]\n",
      " [ 0.48105469]\n",
      " [ 0.37004207]\n",
      " [ 0.37004207]\n",
      " [ 0.37004207]\n",
      " [ 0.37004207]\n",
      " [ 0.37004207]\n",
      " [ 0.37004207]\n",
      " [ 0.37004207]\n",
      " [ 0.37004207]\n",
      " [ 0.37004207]\n",
      " [ 0.37004207]\n",
      " [ 0.37004207]\n",
      " [ 0.37004207]\n",
      " [ 0.37004207]\n",
      " [ 0.37004207]\n",
      " [ 0.37004207]\n",
      " [ 0.37004207]\n",
      " [ 0.37004207]\n",
      " [ 0.37004207]\n",
      " [ 0.37004207]\n",
      " [ 0.37004207]\n",
      " [ 0.25902945]\n",
      " [ 0.25902945]\n",
      " [ 0.25902945]\n",
      " [ 0.25902945]\n",
      " [ 0.25902945]\n",
      " [ 0.25902945]\n",
      " [ 0.25902945]\n",
      " [ 0.25902945]\n",
      " [ 0.25902945]\n",
      " [ 0.25902945]\n",
      " [ 0.25902945]\n",
      " [ 0.25902945]\n",
      " [ 0.25902945]\n",
      " [ 0.25902945]\n",
      " [ 0.25902945]\n",
      " [ 0.25902945]\n",
      " [ 0.25902945]\n",
      " [ 0.14801683]\n",
      " [ 0.14801683]\n",
      " [ 0.14801683]\n",
      " [ 0.14801683]\n",
      " [ 0.14801683]\n",
      " [ 0.14801683]\n",
      " [ 0.14801683]\n",
      " [ 0.14801683]\n",
      " [ 0.14801683]\n",
      " [ 0.14801683]\n",
      " [ 0.14801683]\n",
      " [ 0.14801683]\n",
      " [ 0.14801683]\n",
      " [ 0.14801683]\n",
      " [ 0.14801683]\n",
      " [ 0.14801683]\n",
      " [ 0.14801683]\n",
      " [ 0.14801683]\n",
      " [ 0.14801683]\n",
      " [ 0.14801683]\n",
      " [ 0.14801683]\n",
      " [ 0.14801683]\n",
      " [ 0.03700421]\n",
      " [ 0.03700421]\n",
      " [ 0.03700421]\n",
      " [ 0.03700421]\n",
      " [ 0.03700421]\n",
      " [ 0.03700421]\n",
      " [ 0.03700421]\n",
      " [ 0.03700421]\n",
      " [ 0.03700421]\n",
      " [ 0.03700421]\n",
      " [ 0.03700421]\n",
      " [ 0.03700421]\n",
      " [ 0.03700421]\n",
      " [ 0.03700421]\n",
      " [ 0.03700421]\n",
      " [ 0.07400841]\n",
      " [ 0.07400841]\n",
      " [ 0.07400841]\n",
      " [ 0.07400841]\n",
      " [ 0.07400841]\n",
      " [ 0.07400841]\n",
      " [ 0.07400841]\n",
      " [ 0.07400841]\n",
      " [ 0.07400841]\n",
      " [ 0.07400841]\n",
      " [ 0.07400841]\n",
      " [ 0.07400841]\n",
      " [ 0.07400841]\n",
      " [ 0.18502103]\n",
      " [ 0.18502103]\n",
      " [ 0.18502103]\n",
      " [ 0.18502103]\n",
      " [ 0.18502103]\n",
      " [ 0.18502103]\n",
      " [ 0.18502103]\n",
      " [ 0.18502103]\n",
      " [ 0.18502103]\n",
      " [ 0.18502103]\n",
      " [ 0.18502103]\n",
      " [ 0.18502103]\n",
      " [ 0.18502103]\n",
      " [ 0.18502103]\n",
      " [ 0.18502103]\n",
      " [ 0.18502103]\n",
      " [ 0.18502103]\n",
      " [ 0.18502103]\n",
      " [ 0.29603365]\n",
      " [ 0.29603365]\n",
      " [ 0.29603365]\n",
      " [ 0.29603365]\n",
      " [ 0.29603365]\n",
      " [ 0.29603365]\n",
      " [ 0.29603365]\n",
      " [ 0.29603365]\n",
      " [ 0.29603365]\n",
      " [ 0.29603365]\n",
      " [ 0.29603365]\n",
      " [ 0.29603365]\n",
      " [ 0.29603365]\n",
      " [ 0.29603365]\n",
      " [ 0.29603365]\n",
      " [ 0.40704627]\n",
      " [ 0.51805889]\n",
      " [ 0.51805889]\n",
      " [ 0.62907151]\n",
      " [ 0.62907151]\n",
      " [ 0.62907151]\n",
      " [ 0.62907151]\n",
      " [ 0.74008413]\n",
      " [ 0.74008413]\n",
      " [ 0.85109676]\n",
      " [ 0.85109676]\n",
      " [ 0.85109676]\n",
      " [ 0.85109676]\n",
      " [ 0.96210938]\n",
      " [ 1.18413462]\n",
      " [ 1.18413462]\n",
      " [ 1.29514724]\n",
      " [ 1.29514724]\n",
      " [ 1.51717248]\n",
      " [ 1.51717248]\n",
      " [ 1.96122296]\n",
      " [ 3.62641226]\n",
      " [ 3.73742488]\n",
      " [ 4.62552584]\n",
      " [10.28716948]]\n"
     ]
    },
    {
     "data": {
      "image/png": "[encoded data removed]",
      "text/plain": [
       "<Figure size 432x288 with 1 Axes>"
      ]
     },
     "metadata": {
      "needs_background": "light"
     },
     "output_type": "display_data"
    }
   ],
   "source": [
    "# Finding outliers\n",
    "import seaborn as sns\n",
    "sns.boxplot(x=num_friends)\n",
    "\n",
    "import pandas as pd \n",
    "df = pd.DataFrame(sorted_values)\n",
    "\n",
    "from scipy import stats\n",
    "import numpy as np\n",
    "z = np.abs(stats.zscore(df))\n",
    "print(z)"
   ]
  },
  {
   "cell_type": "code",
   "execution_count": 31,
   "metadata": {},
   "outputs": [
    {
     "data": {
      "text/plain": [
       "7.333333333333333"
      ]
     },
     "execution_count": 31,
     "metadata": {},
     "output_type": "execute_result"
    }
   ],
   "source": [
    "stcs.mean(sorted_values)"
   ]
  },
  {
   "cell_type": "code",
   "execution_count": 33,
   "metadata": {},
   "outputs": [
    {
     "name": "stdout",
     "output_type": "stream",
     "text": [
      "0    6.0\n",
      "dtype: float64\n"
     ]
    }
   ],
   "source": [
    "Q1 = df.quantile(0.25)\n",
    "Q3 = df.quantile(0.75)\n",
    "IQR = Q3 - Q1\n",
    "print(IQR)"
   ]
  },
  {
   "cell_type": "code",
   "execution_count": 34,
   "metadata": {},
   "outputs": [
    {
     "data": {
      "text/plain": [
       "0    6.0\n",
       "dtype: float64"
      ]
     },
     "execution_count": 34,
     "metadata": {},
     "output_type": "execute_result"
    }
   ],
   "source": [
    "IQR"
   ]
  },
  {
   "cell_type": "code",
   "execution_count": null,
   "metadata": {},
   "outputs": [],
   "source": []
  }
 ],
 "metadata": {
  "kernelspec": {
   "display_name": "Python 3",
   "language": "python",
   "name": "python3"
  },
  "language_info": {
   "codemirror_mode": {
    "name": "ipython",
    "version": 3
   },
   "file_extension": ".py",
   "mimetype": "text/x-python",
   "name": "python",
   "nbconvert_exporter": "python",
   "pygments_lexer": "ipython3",
   "version": "3.7.6"
  }
 },
 "nbformat": 4,
 "nbformat_minor": 4
}
